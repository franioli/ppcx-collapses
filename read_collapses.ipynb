{
 "cells": [
  {
   "cell_type": "code",
   "execution_count": null,
   "id": "6a567ad1",
   "metadata": {},
   "outputs": [],
   "source": [
    "%reload_ext autoreload\n",
    "%autoreload 2\n",
    "%matplotlib widget\n",
    "\n",
    "\n",
    "from pathlib import Path\n",
    "\n",
    "import fiona\n",
    "import numpy as np\n",
    "from sqlalchemy import create_engine\n",
    "\n",
    "from ppcollapse.utils.config import ConfigManager\n",
    "from ppcollapse.utils.database import get_image\n",
    "\n",
    "RANDOM_SEED = 8927\n",
    "rng = np.random.default_rng(RANDOM_SEED)\n",
    "\n",
    "# Load configuration\n",
    "config = ConfigManager()\n",
    "db_engine = create_engine(config.db_url)\n",
    "\n",
    "shape_dir = Path(\"data/SHAPEFILES_adj\")\n",
    "file_ext = \".shp\"\n",
    "\n",
    "image_id = 32219\n",
    "\n",
    "year = 2023\n",
    "year_dir = shape_dir / f\"{year}_qgis\"\n",
    "\n",
    "files = list(year_dir.glob(f\"*{file_ext}\"))"
   ]
  },
  {
   "cell_type": "code",
   "execution_count": null,
   "id": "66dc4b22",
   "metadata": {},
   "outputs": [],
   "source": [
    "img = get_image(image_id=image_id, config=config)\n"
   ]
  },
  {
   "cell_type": "code",
   "execution_count": null,
   "id": "f010795c",
   "metadata": {},
   "outputs": [],
   "source": [
    "file = files[0]"
   ]
  },
  {
   "cell_type": "code",
   "execution_count": null,
   "id": "fb4ee8a8",
   "metadata": {},
   "outputs": [],
   "source": [
    "with fiona.open(file) as src:\n",
    "    polygons = [feature[\"geometry\"] for feature in src]"
   ]
  },
  {
   "cell_type": "code",
   "execution_count": null,
   "id": "ddf660e0",
   "metadata": {},
   "outputs": [],
   "source": [
    "poly = polygons[0]"
   ]
  }
 ],
 "metadata": {
  "kernelspec": {
   "display_name": "ppcx-collapses (3.13.5)",
   "language": "python",
   "name": "python3"
  },
  "language_info": {
   "codemirror_mode": {
    "name": "ipython",
    "version": 3
   },
   "file_extension": ".py",
   "mimetype": "text/x-python",
   "name": "python",
   "nbconvert_exporter": "python",
   "pygments_lexer": "ipython3",
   "version": "3.13.5"
  }
 },
 "nbformat": 4,
 "nbformat_minor": 5
}
